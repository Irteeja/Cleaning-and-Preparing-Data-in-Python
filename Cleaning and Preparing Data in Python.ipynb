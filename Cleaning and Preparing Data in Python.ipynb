{
 "cells": [
  {
   "cell_type": "markdown",
   "id": "e617f407",
   "metadata": {},
   "source": [
    "# Storing datset in Python\n",
    "In this project, we'll begin learning how to clean data using Python. We'll perform data cleaning on a real-world data set of artworks contained in the Museum of Modern Art (MoMA).\n",
    "\n",
    "Here are a few takeaways you can expect by the end of this lesson:\n",
    "\n",
    "1.How to work with and prepare text data in Python\n",
    "2.Basic data cleaning techniques\n",
    "3.How to correct errors during data cleaning\n",
    "\n",
    "We'll learn more about the MoMA dataset we'll be working with on the next screen, but for now let's take a moment to understand how Python stores datasets."
   ]
  },
  {
   "cell_type": "markdown",
   "id": "5173e4d0",
   "metadata": {},
   "source": [
    "# Reading the Dataset"
   ]
  },
  {
   "cell_type": "markdown",
   "id": "2dd77954",
   "metadata": {},
   "source": [
    "Each row of the dataset represents a unique piece of art. Let's take a look at the first five rows:"
   ]
  },
  {
   "cell_type": "code",
   "execution_count": 1,
   "id": "6c7ef130",
   "metadata": {
    "scrolled": true
   },
   "outputs": [
    {
     "name": "stdout",
     "output_type": "stream",
     "text": [
      "[['Title', 'Artist', 'Nationality', 'BeginDate', 'EndDate', 'Gender', 'Date', 'Department']]\n"
     ]
    }
   ],
   "source": [
    "import csv\n",
    "\n",
    "with open(\"artworks.csv\", encoding=\"utf-8\") as file:\n",
    "    reader = csv.reader(file)\n",
    "    rows = list(reader)\n",
    "    header=rows[:1]\n",
    "    print(header)\n"
   ]
  },
  {
   "cell_type": "raw",
   "id": "835844ea",
   "metadata": {},
   "source": [
    "Title: the title of the artwork\n",
    "Artist: the name of the artist who created the artwork\n",
    "Nationality: the nationality of the artist\n",
    "BeginDate: the year in which the artist was born\n",
    "EndDate: the year in which the artist died\n",
    "Gender: the gender of the artist\n",
    "Date: the date that the artwork was created\n",
    "Department: the department inside MoMA to which the artwork belongs"
   ]
  },
  {
   "cell_type": "markdown",
   "id": "733aaf73",
   "metadata": {},
   "source": [
    "A list represents each row of our data, with each item in that list representing an item from the row. Each \"row list\" is stored in one single outer list — which is why we call this format a list of lists. The diagram above shows a simple table of data and its list of lists representation."
   ]
  },
  {
   "cell_type": "markdown",
   "id": "35302dcd",
   "metadata": {},
   "source": [
    "# Determing the length of the dataset"
   ]
  },
  {
   "cell_type": "code",
   "execution_count": 2,
   "id": "215bde9d",
   "metadata": {},
   "outputs": [
    {
     "data": {
      "text/plain": [
       "16725"
      ]
     },
     "execution_count": 2,
     "metadata": {},
     "output_type": "execute_result"
    }
   ],
   "source": [
    "moma=rows[1:]\n",
    "len(moma)"
   ]
  },
  {
   "cell_type": "markdown",
   "id": "d14b6221",
   "metadata": {},
   "source": [
    "# Cleaning the Nationality and Gender Columns\n",
    "\n",
    "Notice how the Nationality and Gender columns have parentheses (()) at the beginning and the end of the values. Our task in this screen is to remove those values.\n",
    "Our task, however, is to remove a substring, not replace it. In order to remove a substring, we use a simple trick: we replace the substring with an empty string: \"\"."
   ]
  },
  {
   "cell_type": "code",
   "execution_count": 3,
   "id": "4a32ce7b",
   "metadata": {},
   "outputs": [
    {
     "name": "stdout",
     "output_type": "stream",
     "text": [
      "(Spanish)\n",
      "(Male)\n"
     ]
    }
   ],
   "source": [
    "print(moma[1][2])\n",
    "print(moma[1][5])"
   ]
  },
  {
   "cell_type": "code",
   "execution_count": 4,
   "id": "2a470adb",
   "metadata": {},
   "outputs": [],
   "source": [
    "for row in moma:\n",
    "    nationality=row[2]\n",
    "    nationality=nationality.replace(\"(\",\"\")\n",
    "    nationality=nationality.replace(\")\",\"\")\n",
    "    row[2]=nationality\n",
    "    #For Gender:\n",
    "    gender=row[5]\n",
    "    gender=gender.replace(\"(\",\"\")\n",
    "    gender=gender.replace(\")\",\"\")\n",
    "    row[5]=gender"
   ]
  },
  {
   "cell_type": "code",
   "execution_count": 5,
   "id": "e0f5b91c",
   "metadata": {},
   "outputs": [
    {
     "name": "stdout",
     "output_type": "stream",
     "text": [
      "Spanish\n",
      "Male\n"
     ]
    }
   ],
   "source": [
    "print(moma[1][2])\n",
    "print(moma[1][5])"
   ]
  },
  {
   "cell_type": "markdown",
   "id": "a4737539",
   "metadata": {},
   "source": [
    "# String Capitalization"
   ]
  },
  {
   "cell_type": "raw",
   "id": "7b89be5e",
   "metadata": {},
   "source": [
    "The Gender column in our dataset contains four unique values:\n",
    "\n",
    "\"\" (an empty string)\n",
    "\"Male\"\n",
    "\"Female\"\n",
    "\"male\"\n",
    "There are two different capitalizations in use in our dataset for \"male.\" This sort of inconsistency is often the result of manual data entry and different people using different capitalizations when they enter words."
   ]
  },
  {
   "cell_type": "code",
   "execution_count": 6,
   "id": "3bb009a2",
   "metadata": {},
   "outputs": [
    {
     "data": {
      "text/plain": [
       "3235"
      ]
     },
     "execution_count": 6,
     "metadata": {},
     "output_type": "execute_result"
    }
   ],
   "source": [
    "def view(table,row_no):\n",
    "    count = 0\n",
    "    for row in table:\n",
    "        if \"male\" in row[row_no] or \"\" == row[row_no]:\n",
    "            count += 1\n",
    "    return count\n",
    "view(moma,5)"
   ]
  },
  {
   "cell_type": "markdown",
   "id": "ae4c2c4a",
   "metadata": {},
   "source": [
    "So, there are 3235 items in the gender column which has issues null values and capitalization."
   ]
  },
  {
   "cell_type": "code",
   "execution_count": 7,
   "id": "d12854ef",
   "metadata": {},
   "outputs": [],
   "source": [
    "#For Gender\n",
    "for row in moma:\n",
    "    gender=row[5]\n",
    "    gender=gender.title()\n",
    "    if not gender:\n",
    "        gender=\"Gender Unknown/Other\"\n",
    "    row[5]=gender"
   ]
  },
  {
   "cell_type": "code",
   "execution_count": 8,
   "id": "ec8745c4",
   "metadata": {},
   "outputs": [],
   "source": [
    "#For Nationality\n",
    "for row in moma:\n",
    "    nationality=row[2]\n",
    "    nationality=nationality.title()\n",
    "    if not nationality:\n",
    "        nationality=\"Nationality Unknown\"\n",
    "    row[2]=nationality"
   ]
  },
  {
   "cell_type": "code",
   "execution_count": 9,
   "id": "85d7988a",
   "metadata": {},
   "outputs": [
    {
     "data": {
      "text/plain": [
       "0"
      ]
     },
     "execution_count": 9,
     "metadata": {},
     "output_type": "execute_result"
    }
   ],
   "source": [
    "view(moma,2)"
   ]
  },
  {
   "cell_type": "markdown",
   "id": "343ab86b",
   "metadata": {},
   "source": [
    "So far, we have converted all the data in lowercase to uppercase and filled in \"unknown\" where null values were present."
   ]
  },
  {
   "cell_type": "markdown",
   "id": "fc58b864",
   "metadata": {},
   "source": [
    "# Errors During Data Cleaning"
   ]
  },
  {
   "cell_type": "markdown",
   "id": "de79adcd",
   "metadata": {},
   "source": [
    "Having analyzed the artist nationalities, we'll now look at the BeginDate and EndDate columns. These columns contain the birth and death dates of the artist who created the work. Let's look at the contents of the first five rows in each column:"
   ]
  },
  {
   "cell_type": "code",
   "execution_count": 10,
   "id": "0e9ab24a",
   "metadata": {},
   "outputs": [
    {
     "name": "stdout",
     "output_type": "stream",
     "text": [
      "['(1947)', '(2013)']\n",
      "['(1916)', '(2007)']\n",
      "['(1870)', '(1943)']\n",
      "['(1861)', '(1944)']\n",
      "['(1857)', '(1927)']\n"
     ]
    }
   ],
   "source": [
    "for row in moma[:5]:\n",
    "    birth_date = row[3]\n",
    "    death_date = row[4]\n",
    "    print([birth_date, death_date])"
   ]
  },
  {
   "cell_type": "raw",
   "id": "58402571",
   "metadata": {},
   "source": [
    "The values are four-digit years, enclosed in parentheses and stored as strings. To clean these columns, we need to do the following:\n",
    "\n",
    "Remove the parentheses from the beginning and the end of each value\n",
    "Convert the values from the string type to an integer type. This will help us perform calculations with them later"
   ]
  },
  {
   "cell_type": "code",
   "execution_count": 11,
   "id": "1523d2d3",
   "metadata": {},
   "outputs": [],
   "source": [
    "def clean_and_convert(date):\n",
    "    if date!=\"\":\n",
    "        date=date.replace(\"(\",\"\")\n",
    "        date=date.replace(\")\",\"\")\n",
    "        date=int(date)\n",
    "    return date\n",
    "for row in moma:\n",
    "    birth_date=row[3]\n",
    "    death_date=row[4]\n",
    "    birth_date=clean_and_convert(birth_date)\n",
    "    death_date=clean_and_convert(death_date)\n",
    "    row[3]=birth_date\n",
    "    row[4]=death_date"
   ]
  },
  {
   "cell_type": "code",
   "execution_count": 12,
   "id": "dc6645a3",
   "metadata": {},
   "outputs": [
    {
     "name": "stdout",
     "output_type": "stream",
     "text": [
      "[['Dress MacLeod from Tartan Sets', 'Sarah Charlesworth', 'American', 1947, 2013, 'Female', '1986', 'Prints & Illustrated Books']]\n"
     ]
    }
   ],
   "source": [
    "print(moma[:1])"
   ]
  },
  {
   "cell_type": "markdown",
   "id": "861e98be",
   "metadata": {},
   "source": [
    "# Parsing Numbers from Complex Strings, Part One"
   ]
  },
  {
   "cell_type": "markdown",
   "id": "d22fafba",
   "metadata": {},
   "source": [
    "On the previous screen, we converted the BeginDate and EndDate columns into numeric values. If we were to combine the data from the BeginDate column — which represents the artist's year of birth — with the data in the Date column — which represents the year when the artist created the piece of art — we can calculate the age at which the artist produced the work."
   ]
  },
  {
   "cell_type": "raw",
   "id": "db25d9f5",
   "metadata": {},
   "source": [
    "We need to clean the data in the Date column. Let's start by looking at a sample of the types of values contained in this column:\n",
    "1912\n",
    "1929\n",
    "1913-1923\n",
    "(1951)\n",
    "1994\n",
    "1934\n",
    "c. 1915\n",
    "1995\n",
    "c. 1912\n",
    "(1988)\n",
    "2002\n",
    "1957-1959\n",
    "c. 1955.\n",
    "c. 1970's\n",
    "C. 1990-1999"
   ]
  },
  {
   "cell_type": "raw",
   "id": "ce60ed52",
   "metadata": {},
   "source": [
    "This column contains data in many different formats:\n",
    "\n",
    "Some years are in parentheses.\n",
    "Some years have c. or C. before them, indicating that the year is approximate.\n",
    "Some have year ranges, indicated with a dash.\n",
    "Some have 's to indicate a decade."
   ]
  },
  {
   "cell_type": "markdown",
   "id": "151509f9",
   "metadata": {},
   "source": [
    "our task will be to remove all the extra characters so that we're left with either a range or a single year. Then, we'll finish processing the data on the screens that follow. For the two special cases listed above, we'll do the following:\n",
    "\n",
    "Where there is an 's that signifies a decade, we'll use the year without the 's.\n",
    "Where c. or similar indicates an approximate year, we'll remove the c. but keep the year."
   ]
  },
  {
   "cell_type": "code",
   "execution_count": 13,
   "id": "29fdc8b1",
   "metadata": {},
   "outputs": [
    {
     "name": "stdout",
     "output_type": "stream",
     "text": [
      "1986\n",
      "1978\n",
      "1889-1911\n",
      "1927-1940\n",
      "1903\n",
      "1957\n",
      "1924\n",
      "1978-1983\n",
      "2001\n",
      "(1941)\n",
      "1949-1950\n",
      "1963\n",
      "1908-1911\n",
      "(1934)\n",
      "1997\n",
      "(1931-1933)\n",
      "1972\n",
      "1967\n",
      "1923-1924\n",
      "1979\n"
     ]
    }
   ],
   "source": [
    "bad_chars = [\"(\", \")\", \"c\", \"C\", \".\", \"s\", \"S\"]\n",
    "\n",
    "def strip_characters(string):\n",
    "    string = str(string)\n",
    "    for char in bad_chars:\n",
    "        string = string.replace(char, \"\")\n",
    "    return string\n",
    "\n",
    "\n",
    "def clean_dataset(dataset):\n",
    "    for row in dataset:\n",
    "        date = row[6]\n",
    "        cleaned_date = strip_characters(date)\n",
    "        row[6] = cleaned_date\n",
    "        if cleaned_date.isnumeric():\n",
    "            row[6]=int(cleaned_date)\n",
    "# def clean_dataset(dataset):\n",
    "#     bad_chars = [\"(\", \")\", \"c\", \"C\", \".\", \"s\", \"S\"]\n",
    "#     for row in dataset:\n",
    "#         # Clean Date column\n",
    "#         date = row[6]\n",
    "#         cleaned_date = strip_characters(date)\n",
    "#         row[6] = cleaned_date\n",
    "#         # Cast Date column to int\n",
    "#         if cleaned_date.isnumeric():\n",
    "#             row[6] = int(cleaned_date)\n",
    "for row in moma[:20]:\n",
    "    print(row[6])\n",
    "clean_dataset(moma)"
   ]
  },
  {
   "cell_type": "markdown",
   "id": "a3581b30",
   "metadata": {},
   "source": [
    "# Parsing Numbers from Complex Strings, Part Two"
   ]
  },
  {
   "cell_type": "raw",
   "id": "4bc9752a",
   "metadata": {},
   "source": [
    "There are two different scenarios that we need to prepare for when converting these to integers:\n",
    "\n",
    "Some are a single year (e.g., 1912).\n",
    "Some are ranges of years (e.g., 1913-1923)."
   ]
  },
  {
   "cell_type": "raw",
   "id": "8aead254",
   "metadata": {},
   "source": [
    "Here are the ways we'll treat the various cases:\n",
    "\n",
    "Where there is a single year, we'll keep it.\n",
    "Where there is a year range, we'll average the two years."
   ]
  },
  {
   "cell_type": "code",
   "execution_count": 14,
   "id": "72af248a",
   "metadata": {
    "scrolled": true
   },
   "outputs": [
    {
     "name": "stdout",
     "output_type": "stream",
     "text": [
      "1986\n",
      "1978\n",
      "1900\n",
      "1934\n",
      "1903\n",
      "1957\n",
      "1924\n",
      "1980\n",
      "2001\n",
      "1941\n",
      "1950\n",
      "1963\n",
      "1910\n",
      "1934\n",
      "1997\n",
      "1932\n",
      "1972\n",
      "1967\n",
      "1924\n",
      "1979\n"
     ]
    }
   ],
   "source": [
    "def process_date(date):\n",
    "    date = str(date).strip(\"'\")\n",
    "    if \"-\" in date:\n",
    "        split_date = date.split(\"-\")\n",
    "        date_one = split_date[0]\n",
    "        date_two = split_date[1]\n",
    "        date = (int(date_one) + int(date_two)) / 2\n",
    "        date = round(date)\n",
    "    else:\n",
    "        date = int(date)\n",
    "    return date\n",
    "\n",
    "\n",
    "for row in moma:\n",
    "    date = row[6]\n",
    "    cleaned_date = process_date(date)\n",
    "    row[6] = int(cleaned_date)\n",
    "\n",
    "for row in moma[:20]:\n",
    "    print(row[6])\n",
    "\n",
    "clean_dataset(moma)\n",
    "\n"
   ]
  },
  {
   "cell_type": "code",
   "execution_count": 15,
   "id": "31193db2",
   "metadata": {},
   "outputs": [
    {
     "name": "stdout",
     "output_type": "stream",
     "text": [
      "[['Dress MacLeod from Tartan Sets', 'Sarah Charlesworth', 'American', 1947, 2013, 'Female', 1986, 'Prints & Illustrated Books'], ['Duplicate of plate from folio 11 verso (supplementary suite, plate 4) from ARDICIA', 'Pablo Palazuelo', 'Spanish', 1916, 2007, 'Male', 1978, 'Prints & Illustrated Books'], ['Tailpiece (page 55) from SAGESSE', 'Maurice Denis', 'French', 1870, 1943, 'Male', 1900, 'Prints & Illustrated Books'], ['Headpiece (page 129) from LIVRET DE FOLASTRIES, À JANOT PARISIEN', 'Aristide Maillol', 'French', 1861, 1944, 'Male', 1934, 'Prints & Illustrated Books'], ['97 rue du Bac', 'Eugène Atget', 'French', 1857, 1927, 'Male', 1903, 'Photography'], ['Pictorial ornament (folio 11) from WOODCUTS', 'Antonio Frasconi', 'American', 1919, 2013, 'Male', 1957, 'Prints & Illustrated Books']]\n"
     ]
    }
   ],
   "source": [
    "print(moma[:6])"
   ]
  },
  {
   "cell_type": "markdown",
   "id": "fe8f299e",
   "metadata": {},
   "source": [
    "# Creating a new clean csv file"
   ]
  },
  {
   "cell_type": "code",
   "execution_count": 23,
   "id": "c7851115",
   "metadata": {},
   "outputs": [],
   "source": [
    "import csv\n",
    "\n",
    "# Open a new file to write the cleaned dataset\n",
    "with open(\"cleaned_dataset\", \"w\", newline=\"\", encoding=\"utf-8\") as outfile:\n",
    "\n",
    "    # Create a CSV writer object\n",
    "    writer = csv.writer(outfile)\n",
    "\n",
    "    # Write the header row to the CSV file\n",
    "    for d in header:\n",
    "        writer.writerow(d)\n",
    "\n",
    "    # Write each row of the cleaned dataset to the CSV file\n",
    "    for row in moma:\n",
    "        writer.writerow(row)\n"
   ]
  },
  {
   "cell_type": "code",
   "execution_count": null,
   "id": "65f5fb99",
   "metadata": {},
   "outputs": [],
   "source": []
  }
 ],
 "metadata": {
  "kernelspec": {
   "display_name": "Python 3 (ipykernel)",
   "language": "python",
   "name": "python3"
  },
  "language_info": {
   "codemirror_mode": {
    "name": "ipython",
    "version": 3
   },
   "file_extension": ".py",
   "mimetype": "text/x-python",
   "name": "python",
   "nbconvert_exporter": "python",
   "pygments_lexer": "ipython3",
   "version": "3.9.13"
  }
 },
 "nbformat": 4,
 "nbformat_minor": 5
}
